{
 "cells": [
  {
   "cell_type": "code",
   "execution_count": null,
   "metadata": {},
   "outputs": [],
   "source": [
    "import os\n",
    "from transformers import pipeline\n",
    "from pathlib import Path\n",
    "from docx import Document\n",
    "from tqdm import tqdm\n",
    "from transformers import AutoTokenizer\n",
    "\n",
    "TRANSLATION_CONFIG = {\n",
    "    # Configurazioni del modello\n",
    "    \"model_name\": \"Helsinki-NLP/opus-mt-it-en\",\n",
    "    \"framework\": \"pt\",\n",
    "    \"device\": \"cpu\",\n",
    "    \n",
    "    # Configurazioni dei percorsi\n",
    "    \"paths\": {\n",
    "        \"input_dir\": \"it\",\n",
    "        \"output_dir\": \"en\"\n",
    "    }\n",
    "}\n",
    "\n",
    "tokenizer = AutoTokenizer.from_pretrained(TRANSLATION_CONFIG[\"model_name\"])\n"
   ]
  },
  {
   "cell_type": "code",
   "execution_count": null,
   "metadata": {},
   "outputs": [],
   "source": [
    "def translate_docx(input_file, output_file):\n",
    "    # Inizializza il modello di traduzione\n",
    "    pipe = pipeline(\n",
    "        \"translation\",\n",
    "        model=TRANSLATION_CONFIG[\"model_name\"],\n",
    "        tokenizer=tokenizer,\n",
    "        framework=TRANSLATION_CONFIG[\"framework\"],\n",
    "        device=TRANSLATION_CONFIG[\"device\"]\n",
    "    )\n",
    "    \n",
    "    # Leggi il documento Word\n",
    "    doc = Document(input_file)\n",
    "    \n",
    "    # Crea un nuovo documento per la traduzione\n",
    "    translated_doc = Document()\n",
    "    \n",
    "    # Traduci ogni paragrafo\n",
    "    for paragraph in tqdm(doc.paragraphs, desc=f\"Traduzione {input_file.name}\"):\n",
    "        if paragraph.text.strip():\n",
    "            translation = pipe(paragraph.text)\n",
    "            translated_doc.add_paragraph(translation[0]['translation_text'])\n",
    "        else:\n",
    "            translated_doc.add_paragraph('')\n",
    "    \n",
    "    # Salva il documento tradotto\n",
    "    translated_doc.save(output_file)\n",
    "    print(f\"File tradotto con successo: {output_file}\")\n",
    "\n",
    "# Definisci i percorsi delle cartelle\n",
    "input_dir = Path(TRANSLATION_CONFIG[\"paths\"][\"input_dir\"])\n",
    "output_dir = Path(TRANSLATION_CONFIG[\"paths\"][\"output_dir\"])\n",
    "\n",
    "# Assicurati che la cartella di output esista\n",
    "output_dir.mkdir(exist_ok=True)\n",
    "\n",
    "# Itera su tutti i file nella cartella di input\n",
    "for input_file in input_dir.glob(\"*.docx\"):\n",
    "    # Crea il nome del file di output\n",
    "    output_file = output_dir / f\"{input_file.stem}_EN{input_file.suffix}\"\n",
    "    \n",
    "    # Traduci il file\n",
    "    translate_docx(input_file, output_file)"
   ]
  }
 ],
 "metadata": {
  "kernelspec": {
   "display_name": "ai",
   "language": "python",
   "name": "python3"
  },
  "language_info": {
   "codemirror_mode": {
    "name": "ipython",
    "version": 3
   },
   "file_extension": ".py",
   "mimetype": "text/x-python",
   "name": "python",
   "nbconvert_exporter": "python",
   "pygments_lexer": "ipython3",
   "version": "3.9.18"
  }
 },
 "nbformat": 4,
 "nbformat_minor": 2
}
